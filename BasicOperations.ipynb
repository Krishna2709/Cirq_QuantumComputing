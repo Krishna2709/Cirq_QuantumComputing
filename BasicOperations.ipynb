{
 "cells": [
  {
   "cell_type": "markdown",
   "id": "734714e1",
   "metadata": {},
   "source": [
    "### 1) Simple quantum operation with Cirq"
   ]
  },
  {
   "cell_type": "code",
   "execution_count": 1,
   "id": "835f5068",
   "metadata": {},
   "outputs": [],
   "source": [
    "# Importing required libraries\n",
    "import cirq\n",
    "import math\n",
    "import matplotlib.pyplot as plt\n",
    "%matplotlib inline"
   ]
  },
  {
   "cell_type": "code",
   "execution_count": 2,
   "id": "2d866a3e",
   "metadata": {},
   "outputs": [],
   "source": [
    "# Initializing the qubits\n",
    "q0 = cirq.NamedQubit(\"q0\")\n",
    "q1 = cirq.NamedQubit(\"q1\")\n",
    "q2 = cirq.NamedQubit(\"q2\")\n",
    "q3 = cirq.NamedQubit(\"q3\")\n",
    "q4 = cirq.NamedQubit(\"q4\")"
   ]
  },
  {
   "cell_type": "code",
   "execution_count": 3,
   "id": "6cc99a87",
   "metadata": {},
   "outputs": [
    {
     "name": "stdout",
     "output_type": "stream",
     "text": [
      "Quantum Circuit\n",
      "\n",
      "q0: ───H───@──────────────────────×───\n",
      "           │                      │\n",
      "q1: ───H───X───@──────────────────┼───\n",
      "               │                  │\n",
      "q2: ───H───────X───@───Rx(0.5π)───┼───\n",
      "                   │              │\n",
      "q3: ───H───────────X───@──────────┼───\n",
      "                       │          │\n",
      "q4: ───H───────────────X──────────×───\n"
     ]
    }
   ],
   "source": [
    "# Creating a quantum circuit\n",
    "circuit = cirq.Circuit()\n",
    "circuit.append([\n",
    "    cirq.H(q0),\n",
    "    cirq.H(q1),\n",
    "    cirq.H(q2),\n",
    "    cirq.H(q3),\n",
    "    cirq.H(q4),\n",
    "    cirq.CNOT(q0, q1),\n",
    "    cirq.CNOT(q1, q2),\n",
    "    cirq.CNOT(q2, q3),\n",
    "    cirq.CNOT(q3, q4),\n",
    "    cirq.SWAP(q0, q4),\n",
    "    cirq.rx(math.pi/2).on(q2)\n",
    "])\n",
    "\n",
    "print('Quantum Circuit\\n')\n",
    "print(circuit)"
   ]
  },
  {
   "cell_type": "markdown",
   "id": "ef1d9d48",
   "metadata": {},
   "source": [
    "### 2) Quantum Circuit - series of small cirq.Rx rotations"
   ]
  },
  {
   "cell_type": "code",
   "execution_count": 4,
   "id": "ce8706cf",
   "metadata": {},
   "outputs": [],
   "source": [
    "# Initializing a qubit\n",
    "qubit1 = cirq.NamedQubit(\"qubit1\")"
   ]
  },
  {
   "cell_type": "code",
   "execution_count": 5,
   "id": "95bc812d",
   "metadata": {},
   "outputs": [
    {
     "name": "stdout",
     "output_type": "stream",
     "text": [
      "Quantum Circuit\n",
      "\n",
      "qubit1: ───Rx(π)───Rx(0.333π)───Rx(0.2π)───M('q1')───\n"
     ]
    }
   ],
   "source": [
    "# Creating a quantum circuit with rotations on X\n",
    "rx_circuit = cirq.Circuit()\n",
    "\n",
    "rx_circuit.append([\n",
    "    cirq.rx(math.pi).on(qubit1),\n",
    "    cirq.rx(math.pi/3).on(qubit1),\n",
    "    cirq.rx(math.pi/5).on(qubit1),\n",
    "    cirq.measure(qubit1, key='q1') # 'q1' - a key for the measurment\n",
    "])\n",
    "\n",
    "print('Quantum Circuit\\n')\n",
    "print(rx_circuit)"
   ]
  },
  {
   "cell_type": "code",
   "execution_count": 6,
   "id": "ca143233",
   "metadata": {},
   "outputs": [
    {
     "name": "stdout",
     "output_type": "stream",
     "text": [
      "Measured value of qubit1:  q1=1\n"
     ]
    }
   ],
   "source": [
    "# running on the simulator\n",
    "simulator = cirq.Simulator()\n",
    "\n",
    "experiment_1 = simulator.run(rx_circuit, repetitions=1)\n",
    "print('Measured value of qubit1: ', experiment_1)"
   ]
  },
  {
   "cell_type": "code",
   "execution_count": 7,
   "id": "b7c31661",
   "metadata": {},
   "outputs": [
    {
     "name": "stdout",
     "output_type": "stream",
     "text": [
      "Number of occurances of each qubit:  Counter({1: 1})\n"
     ]
    }
   ],
   "source": [
    "# counting the occurances of each state of qubit\n",
    "qubits_dict = experiment_1.histogram(key='q1')\n",
    "print('Number of occurances of each qubit: ', qubits_dict)"
   ]
  },
  {
   "cell_type": "code",
   "execution_count": 8,
   "id": "cabeda02",
   "metadata": {},
   "outputs": [
    {
     "data": {
      "image/png": "[encoded data removed]",
      "text/plain": [
       "<Figure size 432x288 with 1 Axes>"
      ]
     },
     "metadata": {
      "needs_background": "light"
     },
     "output_type": "display_data"
    }
   ],
   "source": [
    "# plotting the number of occurances of each state after measurement\n",
    "_ = cirq.vis.plot_state_histogram(experiment_1, plt.subplot(), title='Measurement of each state', xlabel='Qubit State', ylabel='Number of Occurances')"
   ]
  },
  {
   "cell_type": "code",
   "execution_count": 9,
   "id": "52eadba6",
   "metadata": {},
   "outputs": [
    {
     "name": "stdout",
     "output_type": "stream",
     "text": [
      "Measured value of qubit1:  q1=1100100\n"
     ]
    }
   ],
   "source": [
    "# running the simulator for 7 repetitions\n",
    "experiment_2 = simulator.run(rx_circuit, repetitions=7)\n",
    "print('Measured value of qubit1: ', experiment_2)"
   ]
  },
  {
   "cell_type": "code",
   "execution_count": 10,
   "id": "a0bc1ff3",
   "metadata": {},
   "outputs": [
    {
     "name": "stdout",
     "output_type": "stream",
     "text": [
      "Number of occurances of each qubit:  Counter({0: 4, 1: 3})\n"
     ]
    }
   ],
   "source": [
    "# counting the occurances of each state of qubit\n",
    "qubits_dict = experiment_2.histogram(key='q1')\n",
    "print('Number of occurances of each qubit: ', qubits_dict)"
   ]
  },
  {
   "cell_type": "code",
   "execution_count": 11,
   "id": "89b1a68a",
   "metadata": {},
   "outputs": [
    {
     "data": {
      "image/png": "[encoded data removed]",
      "text/plain": [
       "<Figure size 432x288 with 1 Axes>"
      ]
     },
     "metadata": {
      "needs_background": "light"
     },
     "output_type": "display_data"
    }
   ],
   "source": [
    "# plotting the number of occurances of each state of the qubit\n",
    "_ = cirq.vis.plot_state_histogram(experiment_2, plt.subplot(), title='Measurement of each state', xlabel='Qubit State', ylabel='Number of Occurances')"
   ]
  },
  {
   "cell_type": "code",
   "execution_count": 12,
   "id": "f476e979",
   "metadata": {},
   "outputs": [
    {
     "name": "stdout",
     "output_type": "stream",
     "text": [
      "Number of occurances of each qubit:  Counter({0: 4580, 1: 3612})\n"
     ]
    },
    {
     "data": {
      "image/png": "[encoded data removed]",
      "text/plain": [
       "<Figure size 432x288 with 1 Axes>"
      ]
     },
     "metadata": {
      "needs_background": "light"
     },
     "output_type": "display_data"
    }
   ],
   "source": [
    "# running the simulator again for 8192 repetitions\n",
    "experiment_3 = simulator.run(rx_circuit, repetitions=8192)\n",
    "print('Number of occurances of each qubit: ', experiment_3.histogram(key='q1'))\n",
    "\n",
    "# plotting the number of occurances of each state\n",
    "_ = cirq.vis.plot_state_histogram(experiment_3, plt.subplot(), title='Measurement of each state', xlabel='Qubit State', ylabel='Number of Occurances')"
   ]
  }
 ],
 "metadata": {
  "kernelspec": {
   "display_name": "Python 3 (ipykernel)",
   "language": "python",
   "name": "python3"
  },
  "language_info": {
   "codemirror_mode": {
    "name": "ipython",
    "version": 3
   },
   "file_extension": ".py",
   "mimetype": "text/x-python",
   "name": "python",
   "nbconvert_exporter": "python",
   "pygments_lexer": "ipython3",
   "version": "3.7.9"
  }
 },
 "nbformat": 4,
 "nbformat_minor": 5
}
