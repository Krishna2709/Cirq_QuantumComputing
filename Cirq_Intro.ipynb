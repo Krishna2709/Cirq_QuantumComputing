{
 "cells": [
  {
   "cell_type": "code",
   "execution_count": 1,
   "id": "4a4c56ab",
   "metadata": {},
   "outputs": [],
   "source": [
    "# Importing cirq library\n",
    "import cirq"
   ]
  },
  {
   "cell_type": "code",
   "execution_count": 2,
   "id": "08dfd8dd",
   "metadata": {},
   "outputs": [
    {
     "name": "stdout",
     "output_type": "stream",
     "text": [
      "                                             (0, 5)───(0, 6)\n",
      "                                             │        │\n",
      "                                             │        │\n",
      "                                    (1, 4)───(1, 5)───(1, 6)───(1, 7)\n",
      "                                    │        │        │        │\n",
      "                                    │        │        │        │\n",
      "                           (2, 3)───(2, 4)───(2, 5)───(2, 6)───(2, 7)───(2, 8)\n",
      "                           │        │        │        │        │        │\n",
      "                           │        │        │        │        │        │\n",
      "                  (3, 2)───(3, 3)───(3, 4)───(3, 5)───(3, 6)───(3, 7)───(3, 8)───(3, 9)\n",
      "                  │        │        │        │        │        │        │        │\n",
      "                  │        │        │        │        │        │        │        │\n",
      "         (4, 1)───(4, 2)───(4, 3)───(4, 4)───(4, 5)───(4, 6)───(4, 7)───(4, 8)───(4, 9)\n",
      "         │        │        │        │        │        │        │        │\n",
      "         │        │        │        │        │        │        │        │\n",
      "(5, 0)───(5, 1)───(5, 2)───(5, 3)───(5, 4)───(5, 5)───(5, 6)───(5, 7)───(5, 8)\n",
      "         │        │        │        │        │        │        │\n",
      "         │        │        │        │        │        │        │\n",
      "         (6, 1)───(6, 2)───(6, 3)───(6, 4)───(6, 5)───(6, 6)───(6, 7)\n",
      "                  │        │        │        │        │\n",
      "                  │        │        │        │        │\n",
      "                  (7, 2)───(7, 3)───(7, 4)───(7, 5)───(7, 6)\n",
      "                           │        │        │\n",
      "                           │        │        │\n",
      "                           (8, 3)───(8, 4)───(8, 5)\n",
      "                                    │\n",
      "                                    │\n",
      "                                    (9, 4)\n"
     ]
    },
    {
     "name": "stderr",
     "output_type": "stream",
     "text": [
      "c:\\users\\krish\\appdata\\local\\programs\\python\\python37\\lib\\site-packages\\ipykernel_launcher.py:2: DeprecationWarning: cirq.google was used but is deprecated.\n",
      " it will be removed in cirq v0.14.\n",
      " Use cirq_google instead.\n",
      "\n",
      "  \n"
     ]
    }
   ],
   "source": [
    "# To get info about the chip\n",
    "print(cirq.google.Sycamore)"
   ]
  },
  {
   "cell_type": "code",
   "execution_count": 3,
   "id": "a7ac4f31",
   "metadata": {},
   "outputs": [],
   "source": [
    "# Defining qubits\n",
    "q0 = cirq.NamedQubit(\"q0\")\n",
    "q1 = cirq.NamedQubit(\"q1\")"
   ]
  },
  {
   "cell_type": "code",
   "execution_count": 4,
   "id": "d2d0021c",
   "metadata": {},
   "outputs": [],
   "source": [
    "# creating the circuit\n",
    "circuit = cirq.Circuit(\n",
    "    cirq.H(q0),\n",
    "    cirq.CNOT(q0, q1),\n",
    "    cirq.measure(q0, q1)\n",
    ")"
   ]
  },
  {
   "cell_type": "code",
   "execution_count": 5,
   "id": "f4eebf58",
   "metadata": {},
   "outputs": [
    {
     "name": "stdout",
     "output_type": "stream",
     "text": [
      "q0: ───H───@───M───\n",
      "           │   │\n",
      "q1: ───────X───M───\n"
     ]
    }
   ],
   "source": [
    "# circuit\n",
    "print(circuit)"
   ]
  },
  {
   "cell_type": "code",
   "execution_count": 6,
   "id": "bdd357c0",
   "metadata": {},
   "outputs": [
    {
     "name": "stdout",
     "output_type": "stream",
     "text": [
      "\n",
      "Moments in the circuit:\n",
      "\n",
      "Moment 0:    ╷ None\n",
      "╶──┼──────\n",
      "q0 │ H\n",
      "   │\n",
      "Moment 1:    ╷ None\n",
      "╶──┼──────\n",
      "q0 │ @\n",
      "   │ │\n",
      "q1 │ X\n",
      "   │\n",
      "Moment 2:    ╷ None\n",
      "╶──┼──────\n",
      "q0 │ M\n",
      "   │ │\n",
      "q1 │ M\n",
      "   │\n"
     ]
    }
   ],
   "source": [
    "# moments in the circuit\n",
    "print(\"\\nMoments in the circuit:\\n\")\n",
    "for i, moment in enumerate(circuit):\n",
    "    print('Moment {}: {}'.format(i, moment))"
   ]
  },
  {
   "cell_type": "code",
   "execution_count": 7,
   "id": "1d823885",
   "metadata": {},
   "outputs": [
    {
     "name": "stdout",
     "output_type": "stream",
     "text": [
      "cirq.Circuit([\n",
      "    cirq.Moment(\n",
      "        cirq.H(cirq.NamedQubit('q0')),\n",
      "    ),\n",
      "    cirq.Moment(\n",
      "        cirq.CNOT(cirq.NamedQubit('q0'), cirq.NamedQubit('q1')),\n",
      "    ),\n",
      "    cirq.Moment(\n",
      "        cirq.measure(cirq.NamedQubit('q0'), cirq.NamedQubit('q1')),\n",
      "    ),\n",
      "])\n"
     ]
    }
   ],
   "source": [
    "# repr to debug the circuit\n",
    "print(repr(circuit))"
   ]
  },
  {
   "cell_type": "code",
   "execution_count": 8,
   "id": "6ae4d5de",
   "metadata": {},
   "outputs": [],
   "source": [
    "# instantiati\n",
    "simulator = cirq.Simulator()"
   ]
  },
  {
   "cell_type": "code",
   "execution_count": 9,
   "id": "4c32b700",
   "metadata": {},
   "outputs": [
    {
     "name": "stdout",
     "output_type": "stream",
     "text": [
      "q0,q1=01000101100000110111, 01000101100000110111\n"
     ]
    }
   ],
   "source": [
    "# running on the simulator\n",
    "result = simulator.run(circuit, repetitions=20)\n",
    "print(result)"
   ]
  },
  {
   "cell_type": "code",
   "execution_count": 10,
   "id": "af66ce23",
   "metadata": {},
   "outputs": [
    {
     "name": "stdout",
     "output_type": "stream",
     "text": [
      "\n",
      "Circuit:\n",
      "q0: ───H───@───M───\n",
      "           │   │\n",
      "q1: ───X───X───M───\n",
      "\n",
      "Moments: \n",
      "cirq.Circuit([\n",
      "    cirq.Moment(\n",
      "        cirq.H(cirq.NamedQubit('q0')),\n",
      "        cirq.X(cirq.NamedQubit('q1')),\n",
      "    ),\n",
      "    cirq.Moment(\n",
      "        cirq.CNOT(cirq.NamedQubit('q0'), cirq.NamedQubit('q1')),\n",
      "    ),\n",
      "    cirq.Moment(\n",
      "        cirq.measure(cirq.NamedQubit('q0'), cirq.NamedQubit('q1')),\n",
      "    ),\n",
      "])\n"
     ]
    }
   ],
   "source": [
    "# Lets apply X gate on q1\n",
    "\n",
    "circuit1 = cirq.Circuit(\n",
    "    cirq.H(q0),\n",
    "    cirq.X(q1),\n",
    "    cirq.CNOT(q0, q1),\n",
    "    cirq.measure(q0, q1)\n",
    ")\n",
    "\n",
    "print(\"\\nCircuit:\")\n",
    "print(circuit1)\n",
    "\n",
    "print(\"\\nMoments: \")\n",
    "print(repr(circuit1))"
   ]
  },
  {
   "cell_type": "code",
   "execution_count": 11,
   "id": "1af719b0",
   "metadata": {},
   "outputs": [
    {
     "name": "stdout",
     "output_type": "stream",
     "text": [
      "q0,q1=10101101111100110101, 01010010000011001010\n"
     ]
    }
   ],
   "source": [
    "result1 = simulator.run(circuit1, repetitions=20)\n",
    "print(result1)"
   ]
  },
  {
   "cell_type": "code",
   "execution_count": 12,
   "id": "c5a457a8",
   "metadata": {},
   "outputs": [
    {
     "data": {
      "text/plain": [
       "cirq.SWAP(cirq.NamedQubit('q0'), cirq.NamedQubit('q1'))"
      ]
     },
     "execution_count": 12,
     "metadata": {},
     "output_type": "execute_result"
    }
   ],
   "source": [
    "cirq.SWAP(q0, q1)"
   ]
  }
 ],
 "metadata": {
  "kernelspec": {
   "display_name": "Python 3 (ipykernel)",
   "language": "python",
   "name": "python3"
  },
  "language_info": {
   "codemirror_mode": {
    "name": "ipython",
    "version": 3
   },
   "file_extension": ".py",
   "mimetype": "text/x-python",
   "name": "python",
   "nbconvert_exporter": "python",
   "pygments_lexer": "ipython3",
   "version": "3.7.9"
  }
 },
 "nbformat": 4,
 "nbformat_minor": 5
}
